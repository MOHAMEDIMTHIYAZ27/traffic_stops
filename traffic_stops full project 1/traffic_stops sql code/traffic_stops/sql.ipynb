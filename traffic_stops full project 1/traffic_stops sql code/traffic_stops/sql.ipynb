{
 "cells": [
  {
   "cell_type": "code",
   "execution_count": 2,
   "id": "7c9d4b16",
   "metadata": {},
   "outputs": [
    {
     "name": "stderr",
     "output_type": "stream",
     "text": [
      "C:\\Users\\user\\AppData\\Local\\Temp\\ipykernel_3420\\2149579678.py:5: DtypeWarning: Columns (10) have mixed types. Specify dtype option on import or set low_memory=False.\n",
      "  df = pd.read_csv(r\"C:\\Users\\user\\Downloads\\police_stops.csv.csv\")\n"
     ]
    },
    {
     "name": "stdout",
     "output_type": "stream",
     "text": [
      "Data inserted into police.db successfully!\n"
     ]
    }
   ],
   "source": [
    "import pandas as pd\n",
    "from sqlalchemy import create_engine\n",
    "\n",
    "# Load cleaned data\n",
    "df = pd.read_csv(r\"C:\\Users\\user\\Downloads\\police_stops.csv.csv\")\n",
    "df.dropna(axis=1, how='all', inplace=True)\n",
    "df.fillna(\"Unknown\", inplace=True)\n",
    "\n",
    "# Create SQLite database\n",
    "engine = create_engine(\"sqlite:///police.db\")  # this creates police.db in your folder\n",
    "\n",
    "# Insert into SQL (replace table if exists)\n",
    "df.to_sql(\"police_stops\", con=engine, if_exists=\"replace\", index=False)\n",
    "\n",
    "print(\"Data inserted into police.db successfully!\")\n"
   ]
  }
 ],
 "metadata": {
  "kernelspec": {
   "display_name": "Python 3",
   "language": "python",
   "name": "python3"
  },
  "language_info": {
   "codemirror_mode": {
    "name": "ipython",
    "version": 3
   },
   "file_extension": ".py",
   "mimetype": "text/x-python",
   "name": "python",
   "nbconvert_exporter": "python",
   "pygments_lexer": "ipython3",
   "version": "3.13.7"
  }
 },
 "nbformat": 4,
 "nbformat_minor": 5
}
