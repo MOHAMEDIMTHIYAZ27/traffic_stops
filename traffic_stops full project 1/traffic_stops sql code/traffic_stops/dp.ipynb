{
 "cells": [
  {
   "cell_type": "code",
   "execution_count": 3,
   "id": "3c370611",
   "metadata": {},
   "outputs": [
    {
     "name": "stdout",
     "output_type": "stream",
     "text": [
      "    stop_date stop_time country_name driver_gender  driver_age_raw  \\\n",
      "0  2020-01-01   0:00:00       Canada             M              59   \n",
      "1  2020-01-01   0:01:00        India             M              35   \n",
      "2  2020-01-01   0:02:00          USA             M              26   \n",
      "3  2020-01-01   0:03:00       Canada             M              26   \n",
      "4  2020-01-01   0:04:00       Canada             M              62   \n",
      "\n",
      "   driver_age driver_race     violation_raw violation  search_conducted  \\\n",
      "0          19       Asian     Drunk Driving  Speeding              True   \n",
      "1          58       Other             Other     Other             False   \n",
      "2          76       Black  Signal Violation  Speeding             False   \n",
      "3          76       Black          Speeding       DUI              True   \n",
      "4          75       Other          Speeding     Other             False   \n",
      "\n",
      "      search_type stop_outcome  is_arrested stop_duration  drugs_related_stop  \\\n",
      "0  Vehicle Search       Ticket         True     16-30 Min                True   \n",
      "1  Vehicle Search       Arrest         True     16-30 Min                True   \n",
      "2           Frisk       Ticket         True     16-30 Min                True   \n",
      "3           Frisk      Warning        False      0-15 Min                True   \n",
      "4  Vehicle Search       Arrest         True     16-30 Min               False   \n",
      "\n",
      "  vehicle_number  \n",
      "0     UP76DY3473  \n",
      "1     RJ83PZ4441  \n",
      "2     RJ32OM7264  \n",
      "3     RJ76TI3807  \n",
      "4     WB63BB8305  \n"
     ]
    },
    {
     "name": "stderr",
     "output_type": "stream",
     "text": [
      "C:\\Users\\user\\AppData\\Local\\Temp\\ipykernel_19312\\594152430.py:4: DtypeWarning: Columns (10) have mixed types. Specify dtype option on import or set low_memory=False.\n",
      "  df = pd.read_csv(r\"C:\\Users\\user\\Downloads\\police_stops.csv.csv\")\n"
     ]
    }
   ],
   "source": [
    "import pandas as pd\n",
    "\n",
    "# Load your dataset (replace with your CSV file)\n",
    "df = pd.read_csv(r\"C:\\Users\\user\\Downloads\\police_stops.csv.csv\")\n",
    "\n",
    "\n",
    "# Remove columns that contain only missing values\n",
    "df.dropna(axis=1, how='all', inplace=True)\n",
    "\n",
    "# Handle NaN values (example: fill NaN with \"Unknown\")\n",
    "df.fillna(\"Unknown\", inplace=True)\n",
    "\n",
    "print(df.head())\n"
   ]
  }
 ],
 "metadata": {
  "kernelspec": {
   "display_name": "Python 3",
   "language": "python",
   "name": "python3"
  },
  "language_info": {
   "codemirror_mode": {
    "name": "ipython",
    "version": 3
   },
   "file_extension": ".py",
   "mimetype": "text/x-python",
   "name": "python",
   "nbconvert_exporter": "python",
   "pygments_lexer": "ipython3",
   "version": "3.13.7"
  }
 },
 "nbformat": 4,
 "nbformat_minor": 5
}
